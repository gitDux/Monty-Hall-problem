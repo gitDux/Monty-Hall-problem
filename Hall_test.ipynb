{
 "nbformat": 4,
 "nbformat_minor": 2,
 "metadata": {
  "language_info": {
   "name": "python",
   "codemirror_mode": {
    "name": "ipython",
    "version": 3
   },
   "version": "3.7.3-final"
  },
  "orig_nbformat": 2,
  "file_extension": ".py",
  "mimetype": "text/x-python",
  "name": "python",
  "npconvert_exporter": "python",
  "pygments_lexer": "ipython3",
  "version": 3,
  "kernelspec": {
   "name": "python36964bitkerascondafeb3659a778746448b20954a977a8967",
   "display_name": "Python 3.6.9 64-bit ('keras': conda)"
  }
 },
 "cells": [
  {
   "cell_type": "code",
   "execution_count": 1,
   "metadata": {},
   "outputs": [],
   "source": [
    "import random as rd"
   ]
  },
  {
   "cell_type": "code",
   "execution_count": 2,
   "metadata": {},
   "outputs": [],
   "source": [
    "Three_board = [0, 0, 1]"
   ]
  },
  {
   "cell_type": "code",
   "execution_count": 3,
   "metadata": {},
   "outputs": [],
   "source": [
    "class Audience():\n",
    "    def __init__(self,name):\n",
    "        self.name = name\n",
    "        self.score_A = 0\n",
    "        self.score_B = 0\n",
    "        self.index = 0\n",
    "    def get_board(self):\n",
    "        self.index = rd.sample(range(0,3),1)[0]\n",
    "    def select_A(self):\n",
    "        self.score_A += Three_board[self.index]\n",
    "    def select_B(self,sheep_index):\n",
    "        self.score_B += Three_board[3-self.index-sheep_index]"
   ]
  },
  {
   "cell_type": "code",
   "execution_count": 4,
   "metadata": {},
   "outputs": [],
   "source": [
    "class Host():\n",
    "    def __init__(self,name):\n",
    "        self.name = name\n",
    "        self.sheep_index = 0\n",
    "\n",
    "    def Shuffle(self):\n",
    "        rd.shuffle(Three_board)\n",
    "        \n",
    "    def get_sheep_index(self, Audience_index):\n",
    "        if Three_board.index(1) == 0:\n",
    "            if Audience_index == 0:\n",
    "                self.sheep_index = rd.sample(range(1,3),1)[0]\n",
    "            else:\n",
    "                self.sheep_index = 3-Audience_index\n",
    "        elif Three_board.index(1) == 1:\n",
    "            if Audience_index == 1:\n",
    "                self.sheep_index = rd.sample(range(0,2),1)[0]*2\n",
    "            else:\n",
    "                self.sheep_index = 2-Audience_index\n",
    "        else:\n",
    "            if Audience_index == 2:\n",
    "                self.sheep_index = rd.sample(range(0,2),1)[0]\n",
    "            else:\n",
    "                self.sheep_index = 1-Audience_index"
   ]
  },
  {
   "cell_type": "code",
   "execution_count": 5,
   "metadata": {},
   "outputs": [],
   "source": [
    "host = Host('Bob')\n",
    "audience = Audience('Jack')"
   ]
  },
  {
   "cell_type": "code",
   "execution_count": 6,
   "metadata": {},
   "outputs": [
    {
     "name": "stdout",
     "output_type": "stream",
     "text": "score_A = 3.0201\nscore_B = 5.9799\n"
    }
   ],
   "source": [
    "for i in range(0,90000):\n",
    "    host.Shuffle()\n",
    "    audience.get_board()\n",
    "    host.get_sheep_index(audience.index)\n",
    "    audience.select_A()\n",
    "    audience.select_B(host.sheep_index)\n",
    "\n",
    "print('score_A =',audience.score_A/10000)\n",
    "print('score_B =',audience.score_B/10000)"
   ]
  },
  {
   "cell_type": "markdown",
   "execution_count": null,
   "metadata": {},
   "outputs": [],
   "source": [
    "A = 0\n",
    "B = 0\n",
    "C = 0\n",
    "for i in range(0,900000):\n",
    "    index = rd.sample(range(0,3),1)\n",
    "    if index[0] == 0:\n",
    "        A +=1\n",
    "    elif index[0] == 1:\n",
    "        B +=1\n",
    "    else:\n",
    "        C +=1\n",
    "print('A:', A)\n",
    "print('B:', B)\n",
    "print('C:', C)"
   ]
  }
 ]
}